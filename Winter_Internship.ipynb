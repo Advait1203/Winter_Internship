{
  "nbformat": 4,
  "nbformat_minor": 0,
  "metadata": {
    "colab": {
      "provenance": []
    },
    "kernelspec": {
      "name": "python3",
      "display_name": "Python 3"
    },
    "language_info": {
      "name": "python"
    }
  },
  "cells": [
    {
      "cell_type": "code",
      "source": [
        "import tensorflow as tf\n",
        "from tensorflow.keras.preprocessing.text import Tokenizer\n",
        "from tensorflow.keras.layers import Embedding, LSTM, Dense\n",
        "from tensorflow.keras.models import Sequential\n",
        "from tensorflow.keras.utils import to_categorical\n",
        "from tensorflow.keras.optimizers import Adam\n",
        "import pickle\n",
        "import os\n",
        "import numpy as np"
      ],
      "metadata": {
        "id": "lPBb9fdhS3i_"
      },
      "execution_count": null,
      "outputs": []
    },
    {
      "cell_type": "code",
      "source": [
        "from google.colab import files\n",
        "uploaded = files.upload()"
      ],
      "metadata": {
        "id": "fWVamYsdYMEE",
        "colab": {
          "base_uri": "https://localhost:8080/",
          "height": 72
        },
        "outputId": "6e037153-54ce-4f61-993e-f5529ac019de"
      },
      "execution_count": 30,
      "outputs": [
        {
          "output_type": "display_data",
          "data": {
            "text/plain": [
              "<IPython.core.display.HTML object>"
            ],
            "text/html": [
              "\n",
              "     <input type=\"file\" id=\"files-fb2992ea-d441-4124-bef1-1587a00e2b53\" name=\"files[]\" multiple disabled\n",
              "        style=\"border:none\" />\n",
              "     <output id=\"result-fb2992ea-d441-4124-bef1-1587a00e2b53\">\n",
              "      Upload widget is only available when the cell has been executed in the\n",
              "      current browser session. Please rerun this cell to enable.\n",
              "      </output>\n",
              "      <script>// Copyright 2017 Google LLC\n",
              "//\n",
              "// Licensed under the Apache License, Version 2.0 (the \"License\");\n",
              "// you may not use this file except in compliance with the License.\n",
              "// You may obtain a copy of the License at\n",
              "//\n",
              "//      http://www.apache.org/licenses/LICENSE-2.0\n",
              "//\n",
              "// Unless required by applicable law or agreed to in writing, software\n",
              "// distributed under the License is distributed on an \"AS IS\" BASIS,\n",
              "// WITHOUT WARRANTIES OR CONDITIONS OF ANY KIND, either express or implied.\n",
              "// See the License for the specific language governing permissions and\n",
              "// limitations under the License.\n",
              "\n",
              "/**\n",
              " * @fileoverview Helpers for google.colab Python module.\n",
              " */\n",
              "(function(scope) {\n",
              "function span(text, styleAttributes = {}) {\n",
              "  const element = document.createElement('span');\n",
              "  element.textContent = text;\n",
              "  for (const key of Object.keys(styleAttributes)) {\n",
              "    element.style[key] = styleAttributes[key];\n",
              "  }\n",
              "  return element;\n",
              "}\n",
              "\n",
              "// Max number of bytes which will be uploaded at a time.\n",
              "const MAX_PAYLOAD_SIZE = 100 * 1024;\n",
              "\n",
              "function _uploadFiles(inputId, outputId) {\n",
              "  const steps = uploadFilesStep(inputId, outputId);\n",
              "  const outputElement = document.getElementById(outputId);\n",
              "  // Cache steps on the outputElement to make it available for the next call\n",
              "  // to uploadFilesContinue from Python.\n",
              "  outputElement.steps = steps;\n",
              "\n",
              "  return _uploadFilesContinue(outputId);\n",
              "}\n",
              "\n",
              "// This is roughly an async generator (not supported in the browser yet),\n",
              "// where there are multiple asynchronous steps and the Python side is going\n",
              "// to poll for completion of each step.\n",
              "// This uses a Promise to block the python side on completion of each step,\n",
              "// then passes the result of the previous step as the input to the next step.\n",
              "function _uploadFilesContinue(outputId) {\n",
              "  const outputElement = document.getElementById(outputId);\n",
              "  const steps = outputElement.steps;\n",
              "\n",
              "  const next = steps.next(outputElement.lastPromiseValue);\n",
              "  return Promise.resolve(next.value.promise).then((value) => {\n",
              "    // Cache the last promise value to make it available to the next\n",
              "    // step of the generator.\n",
              "    outputElement.lastPromiseValue = value;\n",
              "    return next.value.response;\n",
              "  });\n",
              "}\n",
              "\n",
              "/**\n",
              " * Generator function which is called between each async step of the upload\n",
              " * process.\n",
              " * @param {string} inputId Element ID of the input file picker element.\n",
              " * @param {string} outputId Element ID of the output display.\n",
              " * @return {!Iterable<!Object>} Iterable of next steps.\n",
              " */\n",
              "function* uploadFilesStep(inputId, outputId) {\n",
              "  const inputElement = document.getElementById(inputId);\n",
              "  inputElement.disabled = false;\n",
              "\n",
              "  const outputElement = document.getElementById(outputId);\n",
              "  outputElement.innerHTML = '';\n",
              "\n",
              "  const pickedPromise = new Promise((resolve) => {\n",
              "    inputElement.addEventListener('change', (e) => {\n",
              "      resolve(e.target.files);\n",
              "    });\n",
              "  });\n",
              "\n",
              "  const cancel = document.createElement('button');\n",
              "  inputElement.parentElement.appendChild(cancel);\n",
              "  cancel.textContent = 'Cancel upload';\n",
              "  const cancelPromise = new Promise((resolve) => {\n",
              "    cancel.onclick = () => {\n",
              "      resolve(null);\n",
              "    };\n",
              "  });\n",
              "\n",
              "  // Wait for the user to pick the files.\n",
              "  const files = yield {\n",
              "    promise: Promise.race([pickedPromise, cancelPromise]),\n",
              "    response: {\n",
              "      action: 'starting',\n",
              "    }\n",
              "  };\n",
              "\n",
              "  cancel.remove();\n",
              "\n",
              "  // Disable the input element since further picks are not allowed.\n",
              "  inputElement.disabled = true;\n",
              "\n",
              "  if (!files) {\n",
              "    return {\n",
              "      response: {\n",
              "        action: 'complete',\n",
              "      }\n",
              "    };\n",
              "  }\n",
              "\n",
              "  for (const file of files) {\n",
              "    const li = document.createElement('li');\n",
              "    li.append(span(file.name, {fontWeight: 'bold'}));\n",
              "    li.append(span(\n",
              "        `(${file.type || 'n/a'}) - ${file.size} bytes, ` +\n",
              "        `last modified: ${\n",
              "            file.lastModifiedDate ? file.lastModifiedDate.toLocaleDateString() :\n",
              "                                    'n/a'} - `));\n",
              "    const percent = span('0% done');\n",
              "    li.appendChild(percent);\n",
              "\n",
              "    outputElement.appendChild(li);\n",
              "\n",
              "    const fileDataPromise = new Promise((resolve) => {\n",
              "      const reader = new FileReader();\n",
              "      reader.onload = (e) => {\n",
              "        resolve(e.target.result);\n",
              "      };\n",
              "      reader.readAsArrayBuffer(file);\n",
              "    });\n",
              "    // Wait for the data to be ready.\n",
              "    let fileData = yield {\n",
              "      promise: fileDataPromise,\n",
              "      response: {\n",
              "        action: 'continue',\n",
              "      }\n",
              "    };\n",
              "\n",
              "    // Use a chunked sending to avoid message size limits. See b/62115660.\n",
              "    let position = 0;\n",
              "    do {\n",
              "      const length = Math.min(fileData.byteLength - position, MAX_PAYLOAD_SIZE);\n",
              "      const chunk = new Uint8Array(fileData, position, length);\n",
              "      position += length;\n",
              "\n",
              "      const base64 = btoa(String.fromCharCode.apply(null, chunk));\n",
              "      yield {\n",
              "        response: {\n",
              "          action: 'append',\n",
              "          file: file.name,\n",
              "          data: base64,\n",
              "        },\n",
              "      };\n",
              "\n",
              "      let percentDone = fileData.byteLength === 0 ?\n",
              "          100 :\n",
              "          Math.round((position / fileData.byteLength) * 100);\n",
              "      percent.textContent = `${percentDone}% done`;\n",
              "\n",
              "    } while (position < fileData.byteLength);\n",
              "  }\n",
              "\n",
              "  // All done.\n",
              "  yield {\n",
              "    response: {\n",
              "      action: 'complete',\n",
              "    }\n",
              "  };\n",
              "}\n",
              "\n",
              "scope.google = scope.google || {};\n",
              "scope.google.colab = scope.google.colab || {};\n",
              "scope.google.colab._files = {\n",
              "  _uploadFiles,\n",
              "  _uploadFilesContinue,\n",
              "};\n",
              "})(self);\n",
              "</script> "
            ]
          },
          "metadata": {}
        },
        {
          "output_type": "stream",
          "name": "stdout",
          "text": [
            "Saving Sample.txt to Sample.txt\n"
          ]
        }
      ]
    },
    {
      "cell_type": "code",
      "source": [
        "file = open(\"Sample.txt\",\"r\",encoding=\"utf8\")\n",
        "\n",
        "lines=[]\n",
        "for i in file:\n",
        "  lines.append(i)\n",
        "\n",
        "#converting list to string\n",
        "data = ''\n",
        "for i in lines:\n",
        "  data = ' '.join(lines)\n",
        "\n",
        "#replacing unnecessary characters with space\n",
        "data = data.replace('\\n','').replace(\"\\r\",'').replace('\\ufeff','').replace('\"','').replace('*','').replace(',','')\n",
        "\n",
        "#removing unnecessary spaces\n",
        "data = data.split()\n",
        "data = ' '.join(data)\n",
        "print(data[:500])\n",
        "data[:500]\n",
        "print('Length: ',len(data))"
      ],
      "metadata": {
        "colab": {
          "base_uri": "https://localhost:8080/"
        },
        "id": "12Xnw3cBS9v8",
        "outputId": "b725e838-0b79-4997-f894-4e6bda1d061b"
      },
      "execution_count": null,
      "outputs": [
        {
          "output_type": "stream",
          "name": "stdout",
          "text": [
            "eadful measures. Grim-visaged war hath smooth'd his wrinkled front; And now instead of York; And now instead of our house In the deep bosom of fearful measures. Grim-visaged war hath smooth'd his wrinkled for sportion us pleasing barded steeds To the souls of fearful adversaries Nor monuments; Our bruised arms hung up for sportive tricks Now is the winter of York; And now instead of the lascivious pleasing of York; And all the ocean buried. Nor monuments; Our brows bound war hath smooth'd his fa\n",
            "Length:  3377\n"
          ]
        }
      ]
    },
    {
      "cell_type": "code",
      "source": [
        "tokenizer = Tokenizer()\n",
        "tokenizer.fit_on_texts([data])\n",
        "\n",
        "#saving the tokenizer for predict function\n",
        "pickle.dump(tokenizer,open('token.pkl','wb'))\n",
        "\n",
        "sequence_data = tokenizer.texts_to_sequences([data])[0]\n",
        "sequence_data[:15]\n",
        "print(\"Length: \",len(sequence_data))"
      ],
      "metadata": {
        "colab": {
          "base_uri": "https://localhost:8080/"
        },
        "id": "MHsf3JpbUXkI",
        "outputId": "c2013e30-052e-449a-fc26-53e690be40d0"
      },
      "execution_count": null,
      "outputs": [
        {
          "output_type": "stream",
          "name": "stdout",
          "text": [
            "Length:  582\n"
          ]
        }
      ]
    },
    {
      "cell_type": "code",
      "source": [
        "vocab_size = len(tokenizer.word_index)+1\n",
        "print(vocab_size)"
      ],
      "metadata": {
        "colab": {
          "base_uri": "https://localhost:8080/"
        },
        "id": "YXnrNWp3UaB7",
        "outputId": "effbbf20-406d-4676-c638-9e14cb571ba4"
      },
      "execution_count": null,
      "outputs": [
        {
          "output_type": "stream",
          "name": "stdout",
          "text": [
            "109\n"
          ]
        }
      ]
    },
    {
      "cell_type": "code",
      "source": [
        "sequences = []\n",
        "for i in range(3,len(sequence_data)):\n",
        "  words = sequence_data[i-3:i+1]\n",
        "  sequences.append(words)\n",
        "\n",
        "print(\"Length of sequences: \",len(sequences))\n",
        "sequences = np.array(sequences)\n",
        "sequences[:10]\n"
      ],
      "metadata": {
        "colab": {
          "base_uri": "https://localhost:8080/"
        },
        "id": "DxMMEK-_UduW",
        "outputId": "a7af392b-d9d3-47ab-ffc4-3dd246b57203"
      },
      "execution_count": null,
      "outputs": [
        {
          "output_type": "stream",
          "name": "stdout",
          "text": [
            "Length of sequences:  579\n"
          ]
        },
        {
          "output_type": "execute_result",
          "data": {
            "text/plain": [
              "array([[99, 40, 41, 42],\n",
              "       [40, 41, 42, 15],\n",
              "       [41, 42, 15, 16],\n",
              "       [42, 15, 16, 17],\n",
              "       [15, 16, 17, 18],\n",
              "       [16, 17, 18, 54],\n",
              "       [17, 18, 54, 21],\n",
              "       [18, 54, 21,  6],\n",
              "       [54, 21,  6, 11],\n",
              "       [21,  6, 11, 19]])"
            ]
          },
          "metadata": {},
          "execution_count": 19
        }
      ]
    },
    {
      "cell_type": "code",
      "source": [
        "x=[]\n",
        "y=[]\n",
        "for i in sequences:\n",
        "  x.append(i[0:3])\n",
        "  y.append(i[3])\n",
        "\n",
        "#x data acts as input which is used for prediction.\n",
        "x = np.array(x)\n",
        "#y is response data which is predicted based on x\n",
        "y = np.array(y)"
      ],
      "metadata": {
        "id": "gU2m-B6gUktn"
      },
      "execution_count": null,
      "outputs": []
    },
    {
      "cell_type": "code",
      "source": [
        "print(\"Data: \\n\",x[:10])\n",
        "print(\"Response: \\n\",y[:10])"
      ],
      "metadata": {
        "colab": {
          "base_uri": "https://localhost:8080/"
        },
        "id": "CDm-6N_IUl-c",
        "outputId": "eaba62b1-c7d0-4bcc-f179-4edd85c63767"
      },
      "execution_count": null,
      "outputs": [
        {
          "output_type": "stream",
          "name": "stdout",
          "text": [
            "Data: \n",
            " [[99 40 41]\n",
            " [40 41 42]\n",
            " [41 42 15]\n",
            " [42 15 16]\n",
            " [15 16 17]\n",
            " [16 17 18]\n",
            " [17 18 54]\n",
            " [18 54 21]\n",
            " [54 21  6]\n",
            " [21  6 11]]\n",
            "Response: \n",
            " [42 15 16 17 18 54 21  6 11 19]\n"
          ]
        }
      ]
    },
    {
      "cell_type": "code",
      "source": [
        "y = to_categorical(y, num_classes=vocab_size)\n",
        "y[:5]"
      ],
      "metadata": {
        "colab": {
          "base_uri": "https://localhost:8080/"
        },
        "id": "y9mYYMWQUrjT",
        "outputId": "f349efea-2e66-40bd-aa78-47aef1958de2"
      },
      "execution_count": null,
      "outputs": [
        {
          "output_type": "execute_result",
          "data": {
            "text/plain": [
              "array([[0., 0., 0., 0., 0., 0., 0., 0., 0., 0., 0., 0., 0., 0., 0., 0.,\n",
              "        0., 0., 0., 0., 0., 0., 0., 0., 0., 0., 0., 0., 0., 0., 0., 0.,\n",
              "        0., 0., 0., 0., 0., 0., 0., 0., 0., 0., 1., 0., 0., 0., 0., 0.,\n",
              "        0., 0., 0., 0., 0., 0., 0., 0., 0., 0., 0., 0., 0., 0., 0., 0.,\n",
              "        0., 0., 0., 0., 0., 0., 0., 0., 0., 0., 0., 0., 0., 0., 0., 0.,\n",
              "        0., 0., 0., 0., 0., 0., 0., 0., 0., 0., 0., 0., 0., 0., 0., 0.,\n",
              "        0., 0., 0., 0., 0., 0., 0., 0., 0., 0., 0., 0., 0.],\n",
              "       [0., 0., 0., 0., 0., 0., 0., 0., 0., 0., 0., 0., 0., 0., 0., 1.,\n",
              "        0., 0., 0., 0., 0., 0., 0., 0., 0., 0., 0., 0., 0., 0., 0., 0.,\n",
              "        0., 0., 0., 0., 0., 0., 0., 0., 0., 0., 0., 0., 0., 0., 0., 0.,\n",
              "        0., 0., 0., 0., 0., 0., 0., 0., 0., 0., 0., 0., 0., 0., 0., 0.,\n",
              "        0., 0., 0., 0., 0., 0., 0., 0., 0., 0., 0., 0., 0., 0., 0., 0.,\n",
              "        0., 0., 0., 0., 0., 0., 0., 0., 0., 0., 0., 0., 0., 0., 0., 0.,\n",
              "        0., 0., 0., 0., 0., 0., 0., 0., 0., 0., 0., 0., 0.],\n",
              "       [0., 0., 0., 0., 0., 0., 0., 0., 0., 0., 0., 0., 0., 0., 0., 0.,\n",
              "        1., 0., 0., 0., 0., 0., 0., 0., 0., 0., 0., 0., 0., 0., 0., 0.,\n",
              "        0., 0., 0., 0., 0., 0., 0., 0., 0., 0., 0., 0., 0., 0., 0., 0.,\n",
              "        0., 0., 0., 0., 0., 0., 0., 0., 0., 0., 0., 0., 0., 0., 0., 0.,\n",
              "        0., 0., 0., 0., 0., 0., 0., 0., 0., 0., 0., 0., 0., 0., 0., 0.,\n",
              "        0., 0., 0., 0., 0., 0., 0., 0., 0., 0., 0., 0., 0., 0., 0., 0.,\n",
              "        0., 0., 0., 0., 0., 0., 0., 0., 0., 0., 0., 0., 0.],\n",
              "       [0., 0., 0., 0., 0., 0., 0., 0., 0., 0., 0., 0., 0., 0., 0., 0.,\n",
              "        0., 1., 0., 0., 0., 0., 0., 0., 0., 0., 0., 0., 0., 0., 0., 0.,\n",
              "        0., 0., 0., 0., 0., 0., 0., 0., 0., 0., 0., 0., 0., 0., 0., 0.,\n",
              "        0., 0., 0., 0., 0., 0., 0., 0., 0., 0., 0., 0., 0., 0., 0., 0.,\n",
              "        0., 0., 0., 0., 0., 0., 0., 0., 0., 0., 0., 0., 0., 0., 0., 0.,\n",
              "        0., 0., 0., 0., 0., 0., 0., 0., 0., 0., 0., 0., 0., 0., 0., 0.,\n",
              "        0., 0., 0., 0., 0., 0., 0., 0., 0., 0., 0., 0., 0.],\n",
              "       [0., 0., 0., 0., 0., 0., 0., 0., 0., 0., 0., 0., 0., 0., 0., 0.,\n",
              "        0., 0., 1., 0., 0., 0., 0., 0., 0., 0., 0., 0., 0., 0., 0., 0.,\n",
              "        0., 0., 0., 0., 0., 0., 0., 0., 0., 0., 0., 0., 0., 0., 0., 0.,\n",
              "        0., 0., 0., 0., 0., 0., 0., 0., 0., 0., 0., 0., 0., 0., 0., 0.,\n",
              "        0., 0., 0., 0., 0., 0., 0., 0., 0., 0., 0., 0., 0., 0., 0., 0.,\n",
              "        0., 0., 0., 0., 0., 0., 0., 0., 0., 0., 0., 0., 0., 0., 0., 0.,\n",
              "        0., 0., 0., 0., 0., 0., 0., 0., 0., 0., 0., 0., 0.]],\n",
              "      dtype=float32)"
            ]
          },
          "metadata": {},
          "execution_count": 22
        }
      ]
    },
    {
      "cell_type": "code",
      "source": [
        "model = Sequential()\n",
        "model.add(Embedding(vocab_size,10,input_length=3))\n",
        "model.add(LSTM(1000,return_sequences=True))\n",
        "model.add(LSTM(1000))\n",
        "model.add(Dense(1000,activation=\"relu\"))\n",
        "model.add(Dense(vocab_size,activation=\"softmax\"))"
      ],
      "metadata": {
        "id": "ASMktQJGUvJq"
      },
      "execution_count": null,
      "outputs": []
    },
    {
      "cell_type": "code",
      "source": [
        "print(model.summary())"
      ],
      "metadata": {
        "colab": {
          "base_uri": "https://localhost:8080/"
        },
        "id": "yjNtivphU2D3",
        "outputId": "a4e7554f-7365-4065-8cb2-e5e2a0fc3f2d"
      },
      "execution_count": null,
      "outputs": [
        {
          "output_type": "stream",
          "name": "stdout",
          "text": [
            "Model: \"sequential_1\"\n",
            "_________________________________________________________________\n",
            " Layer (type)                Output Shape              Param #   \n",
            "=================================================================\n",
            " embedding_1 (Embedding)     (None, 3, 10)             1090      \n",
            "                                                                 \n",
            " lstm_1 (LSTM)               (None, 3, 1000)           4044000   \n",
            "                                                                 \n",
            " lstm_2 (LSTM)               (None, 1000)              8004000   \n",
            "                                                                 \n",
            " dense_1 (Dense)             (None, 1000)              1001000   \n",
            "                                                                 \n",
            " dense_2 (Dense)             (None, 109)               109109    \n",
            "                                                                 \n",
            "=================================================================\n",
            "Total params: 13159199 (50.20 MB)\n",
            "Trainable params: 13159199 (50.20 MB)\n",
            "Non-trainable params: 0 (0.00 Byte)\n",
            "_________________________________________________________________\n",
            "None\n"
          ]
        }
      ]
    },
    {
      "cell_type": "code",
      "source": [
        "from tensorflow.keras.callbacks import ModelCheckpoint\n",
        "\n",
        "checkpoint = ModelCheckpoint(\"next_words.h5\",monitor=\"loss\",verbose=1,save_best_only=True)\n",
        "model.compile(loss=\"categorical_crossentropy\",optimizer=Adam(learning_rate=0.001))\n",
        "model.fit(x,y,epochs=30,batch_size=64,callbacks=[checkpoint])"
      ],
      "metadata": {
        "colab": {
          "base_uri": "https://localhost:8080/"
        },
        "id": "mzBwcSKEU3G_",
        "outputId": "071bbc12-b2f6-4c87-b6a3-5ac88e71b592"
      },
      "execution_count": null,
      "outputs": [
        {
          "output_type": "stream",
          "name": "stdout",
          "text": [
            "Epoch 1/30\n",
            "10/10 [==============================] - ETA: 0s - loss: 4.6680\n",
            "Epoch 1: loss improved from inf to 4.66795, saving model to next_words.h5\n",
            "10/10 [==============================] - 6s 348ms/step - loss: 4.6680\n",
            "Epoch 2/30\n"
          ]
        },
        {
          "output_type": "stream",
          "name": "stderr",
          "text": [
            "/usr/local/lib/python3.10/dist-packages/keras/src/engine/training.py:3103: UserWarning: You are saving your model as an HDF5 file via `model.save()`. This file format is considered legacy. We recommend using instead the native Keras format, e.g. `model.save('my_model.keras')`.\n",
            "  saving_api.save_model(\n"
          ]
        },
        {
          "output_type": "stream",
          "name": "stdout",
          "text": [
            "10/10 [==============================] - ETA: 0s - loss: 4.4704\n",
            "Epoch 2: loss improved from 4.66795 to 4.47038, saving model to next_words.h5\n",
            "10/10 [==============================] - 3s 271ms/step - loss: 4.4704\n",
            "Epoch 3/30\n",
            "10/10 [==============================] - ETA: 0s - loss: 4.4886\n",
            "Epoch 3: loss did not improve from 4.47038\n",
            "10/10 [==============================] - 2s 245ms/step - loss: 4.4886\n",
            "Epoch 4/30\n",
            "10/10 [==============================] - ETA: 0s - loss: 4.3806\n",
            "Epoch 4: loss improved from 4.47038 to 4.38063, saving model to next_words.h5\n",
            "10/10 [==============================] - 3s 261ms/step - loss: 4.3806\n",
            "Epoch 5/30\n",
            "10/10 [==============================] - ETA: 0s - loss: 4.3433\n",
            "Epoch 5: loss improved from 4.38063 to 4.34334, saving model to next_words.h5\n",
            "10/10 [==============================] - 3s 300ms/step - loss: 4.3433\n",
            "Epoch 6/30\n",
            "10/10 [==============================] - ETA: 0s - loss: 4.2977\n",
            "Epoch 6: loss improved from 4.34334 to 4.29773, saving model to next_words.h5\n",
            "10/10 [==============================] - 3s 284ms/step - loss: 4.2977\n",
            "Epoch 7/30\n",
            "10/10 [==============================] - ETA: 0s - loss: 4.1557\n",
            "Epoch 7: loss improved from 4.29773 to 4.15569, saving model to next_words.h5\n",
            "10/10 [==============================] - 4s 456ms/step - loss: 4.1557\n",
            "Epoch 8/30\n",
            "10/10 [==============================] - ETA: 0s - loss: 4.0635\n",
            "Epoch 8: loss improved from 4.15569 to 4.06347, saving model to next_words.h5\n",
            "10/10 [==============================] - 4s 371ms/step - loss: 4.0635\n",
            "Epoch 9/30\n",
            "10/10 [==============================] - ETA: 0s - loss: 3.9930\n",
            "Epoch 9: loss improved from 4.06347 to 3.99301, saving model to next_words.h5\n",
            "10/10 [==============================] - 3s 288ms/step - loss: 3.9930\n",
            "Epoch 10/30\n",
            "10/10 [==============================] - ETA: 0s - loss: 3.9515\n",
            "Epoch 10: loss improved from 3.99301 to 3.95152, saving model to next_words.h5\n",
            "10/10 [==============================] - 3s 351ms/step - loss: 3.9515\n",
            "Epoch 11/30\n",
            "10/10 [==============================] - ETA: 0s - loss: 3.8543\n",
            "Epoch 11: loss improved from 3.95152 to 3.85432, saving model to next_words.h5\n",
            "10/10 [==============================] - 3s 292ms/step - loss: 3.8543\n",
            "Epoch 12/30\n",
            "10/10 [==============================] - ETA: 0s - loss: 3.7030\n",
            "Epoch 12: loss improved from 3.85432 to 3.70302, saving model to next_words.h5\n",
            "10/10 [==============================] - 3s 320ms/step - loss: 3.7030\n",
            "Epoch 13/30\n",
            "10/10 [==============================] - ETA: 0s - loss: 3.5410\n",
            "Epoch 13: loss improved from 3.70302 to 3.54098, saving model to next_words.h5\n",
            "10/10 [==============================] - 3s 288ms/step - loss: 3.5410\n",
            "Epoch 14/30\n",
            "10/10 [==============================] - ETA: 0s - loss: 3.3403\n",
            "Epoch 14: loss improved from 3.54098 to 3.34027, saving model to next_words.h5\n",
            "10/10 [==============================] - 3s 271ms/step - loss: 3.3403\n",
            "Epoch 15/30\n",
            "10/10 [==============================] - ETA: 0s - loss: 3.1437\n",
            "Epoch 15: loss improved from 3.34027 to 3.14371, saving model to next_words.h5\n",
            "10/10 [==============================] - 3s 284ms/step - loss: 3.1437\n",
            "Epoch 16/30\n",
            "10/10 [==============================] - ETA: 0s - loss: 2.8870\n",
            "Epoch 16: loss improved from 3.14371 to 2.88699, saving model to next_words.h5\n",
            "10/10 [==============================] - 3s 290ms/step - loss: 2.8870\n",
            "Epoch 17/30\n",
            "10/10 [==============================] - ETA: 0s - loss: 2.7922\n",
            "Epoch 17: loss improved from 2.88699 to 2.79223, saving model to next_words.h5\n",
            "10/10 [==============================] - 3s 287ms/step - loss: 2.7922\n",
            "Epoch 18/30\n",
            "10/10 [==============================] - ETA: 0s - loss: 2.6358\n",
            "Epoch 18: loss improved from 2.79223 to 2.63583, saving model to next_words.h5\n",
            "10/10 [==============================] - 3s 270ms/step - loss: 2.6358\n",
            "Epoch 19/30\n",
            "10/10 [==============================] - ETA: 0s - loss: 2.5589\n",
            "Epoch 19: loss improved from 2.63583 to 2.55890, saving model to next_words.h5\n",
            "10/10 [==============================] - 3s 281ms/step - loss: 2.5589\n",
            "Epoch 20/30\n",
            "10/10 [==============================] - ETA: 0s - loss: 2.3384\n",
            "Epoch 20: loss improved from 2.55890 to 2.33840, saving model to next_words.h5\n",
            "10/10 [==============================] - 3s 277ms/step - loss: 2.3384\n",
            "Epoch 21/30\n",
            "10/10 [==============================] - ETA: 0s - loss: 2.1339\n",
            "Epoch 21: loss improved from 2.33840 to 2.13386, saving model to next_words.h5\n",
            "10/10 [==============================] - 3s 276ms/step - loss: 2.1339\n",
            "Epoch 22/30\n",
            "10/10 [==============================] - ETA: 0s - loss: 1.9913\n",
            "Epoch 22: loss improved from 2.13386 to 1.99132, saving model to next_words.h5\n",
            "10/10 [==============================] - 3s 262ms/step - loss: 1.9913\n",
            "Epoch 23/30\n",
            "10/10 [==============================] - ETA: 0s - loss: 1.9446\n",
            "Epoch 23: loss improved from 1.99132 to 1.94456, saving model to next_words.h5\n",
            "10/10 [==============================] - 3s 265ms/step - loss: 1.9446\n",
            "Epoch 24/30\n",
            "10/10 [==============================] - ETA: 0s - loss: 1.8746\n",
            "Epoch 24: loss improved from 1.94456 to 1.87456, saving model to next_words.h5\n",
            "10/10 [==============================] - 3s 283ms/step - loss: 1.8746\n",
            "Epoch 25/30\n",
            "10/10 [==============================] - ETA: 0s - loss: 1.7719\n",
            "Epoch 25: loss improved from 1.87456 to 1.77191, saving model to next_words.h5\n",
            "10/10 [==============================] - 3s 260ms/step - loss: 1.7719\n",
            "Epoch 26/30\n",
            "10/10 [==============================] - ETA: 0s - loss: 1.6556\n",
            "Epoch 26: loss improved from 1.77191 to 1.65557, saving model to next_words.h5\n",
            "10/10 [==============================] - 3s 334ms/step - loss: 1.6556\n",
            "Epoch 27/30\n",
            "10/10 [==============================] - ETA: 0s - loss: 1.5925\n",
            "Epoch 27: loss improved from 1.65557 to 1.59249, saving model to next_words.h5\n",
            "10/10 [==============================] - 3s 278ms/step - loss: 1.5925\n",
            "Epoch 28/30\n",
            "10/10 [==============================] - ETA: 0s - loss: 1.5103\n",
            "Epoch 28: loss improved from 1.59249 to 1.51031, saving model to next_words.h5\n",
            "10/10 [==============================] - 3s 276ms/step - loss: 1.5103\n",
            "Epoch 29/30\n",
            "10/10 [==============================] - ETA: 0s - loss: 1.4161\n",
            "Epoch 29: loss improved from 1.51031 to 1.41612, saving model to next_words.h5\n",
            "10/10 [==============================] - 3s 266ms/step - loss: 1.4161\n",
            "Epoch 30/30\n",
            "10/10 [==============================] - ETA: 0s - loss: 1.5306\n",
            "Epoch 30: loss did not improve from 1.41612\n",
            "10/10 [==============================] - 2s 239ms/step - loss: 1.5306\n"
          ]
        },
        {
          "output_type": "execute_result",
          "data": {
            "text/plain": [
              "<keras.src.callbacks.History at 0x7a630c9c0b50>"
            ]
          },
          "metadata": {},
          "execution_count": 25
        }
      ]
    },
    {
      "cell_type": "code",
      "source": [
        "from tensorflow.keras.models import load_model\n",
        "\n",
        "\n",
        "#load the model and tokenizer\n",
        "model = load_model('next_words.h5')\n",
        "tokenizer = pickle.load(open('token.pkl','rb'))\n",
        "\n",
        "def Predict_Next_Words(model,tokenizer,text):\n",
        "  sequence = tokenizer.texts_to_sequences([text])\n",
        "  sequence = np.array(sequence)\n",
        "  preds = np.argmax(model.predict(sequence))\n",
        "  predict_word = \"\"\n",
        "\n",
        "  for key,value in tokenizer.word_index.items():\n",
        "    if value == preds:\n",
        "      predicted_word = key\n",
        "      break\n",
        "\n",
        "  print(predicted_word)\n",
        "  return predicted_word"
      ],
      "metadata": {
        "id": "Y-JUxrhnVCK6"
      },
      "execution_count": null,
      "outputs": []
    },
    {
      "cell_type": "code",
      "source": [
        "while (True):\n",
        "  text = input(\"Enter your line: \")\n",
        "\n",
        "  if text==\"0\":\n",
        "    print(\"Execution Terminated...\")\n",
        "    break\n",
        "  else:\n",
        "    try:\n",
        "      text = text.split(\" \")\n",
        "      text = text[-3:]\n",
        "      print(text)\n",
        "      Predict_Next_Words(model,tokenizer,text)\n",
        "    except Exception as e:\n",
        "      print(\"Error Occured: \",e)\n",
        "      continue"
      ],
      "metadata": {
        "colab": {
          "base_uri": "https://localhost:8080/"
        },
        "id": "yO0VKiltZj1o",
        "outputId": "d6f1c777-aa22-42d5-87f9-9f7a004dcb2d"
      },
      "execution_count": null,
      "outputs": [
        {
          "output_type": "stream",
          "name": "stdout",
          "text": [
            "Enter your line: bound war hath smooth'd his fair\n",
            "[\"smooth'd\", 'his', 'fair']\n",
            "1/1 [==============================] - 0s 22ms/step\n",
            "proportive\n",
            "Enter your line: fright the lascivious\n",
            "['fright', 'the', 'lascivious']\n",
            "1/1 [==============================] - 0s 21ms/step\n",
            "summer\n"
          ]
        }
      ]
    }
  ]
}